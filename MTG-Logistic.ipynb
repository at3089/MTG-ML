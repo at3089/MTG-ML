{
 "cells": [
  {
   "cell_type": "code",
   "execution_count": 1,
   "metadata": {},
   "outputs": [],
   "source": [
    "import pandas as pd\n",
    "import numpy as np\n",
    "from sklearn import preprocessing\n",
    "from sklearn.linear_model import LogisticRegression\n",
    "import matplotlib.pyplot as plt \n",
    "import copy\n",
    "from sklearn.model_selection import train_test_split\n"
   ]
  },
  {
   "cell_type": "code",
   "execution_count": 2,
   "metadata": {},
   "outputs": [],
   "source": [
    "names =[\n",
    "    'artist','border_color','cmc','color_identity','colors','frame','futureshifted','name','power','promo','rarity',\n",
    "    'released_at','reprint','reserved','set','toughness','creature','artifact','land','planeswalker','instant','sorcery',\n",
    "    'type_line','future','frontier','modern','legacy','pauper','vintage','penny','commander','1v1','duel','brawl','standard'\n",
    "]\n",
    "df = pd.read_excel(\"scryfall-default-cards-cleaned-more.xlsx\",names=names,na_values='?')\n",
    "df1=df[['artist','border_color','frame','name','reserved','future','frontier','creature','artifact','rarity','land','planeswalker','instant','sorcery','modern','legacy','pauper','vintage','cmc','color_identity','standard']]"
   ]
  },
  {
   "cell_type": "code",
   "execution_count": 3,
   "metadata": {},
   "outputs": [],
   "source": [
    "def precision_recall(yhat, y , threshold):\n",
    "    filtering = lambda x : 1 if x > threshold else 0\n",
    "    processed = list(map(filtering, yhat))\n",
    "    \n",
    "    true_pos = 0\n",
    "    false_neg = 0\n",
    "    false_pos = 0\n",
    "    true_neg=0\n",
    "    \n",
    "    for i in range(y.shape[0]):\n",
    "        if y[i] == processed[i]:\n",
    "            if y[i] == 1:\n",
    "                true_pos += 1\n",
    "            else:\n",
    "                true_neg+=1\n",
    "        else:\n",
    "            if y[i] == 1:\n",
    "                false_neg += 1\n",
    "            else:\n",
    "                false_pos += 1\n",
    "    \n",
    "    precision = true_pos / (true_pos + false_pos)\n",
    "    recall = true_pos / (true_pos + false_neg)\n",
    "    print('true positive= ',true_pos,'\\nfalse positive= ',false_pos,'\\ntrue negative= ',true_neg,'\\nfalse negative= ',false_neg,'\\ntotal= ',true_pos+false_neg+false_pos+true_neg)\n",
    "    return precision,recall"
   ]
  },
  {
   "cell_type": "code",
   "execution_count": 4,
   "metadata": {},
   "outputs": [
    {
     "name": "stdout",
     "output_type": "stream",
     "text": [
      "(32137, 21)\n",
      "(32137, 21)\n"
     ]
    }
   ],
   "source": [
    "df2=df1.drop_duplicates()\n",
    "df1=df1.drop_duplicates()\n",
    "df3=df1.copy()\n",
    "df4=df1.copy()\n",
    "print(df1.shape)\n",
    "print(df2.shape)"
   ]
  },
  {
   "cell_type": "code",
   "execution_count": 5,
   "metadata": {},
   "outputs": [
    {
     "name": "stdout",
     "output_type": "stream",
     "text": [
      "(32137, 52)\n",
      "(32137,)\n"
     ]
    }
   ],
   "source": [
    "#Limit to only all visually inspectable aspects of a card\n",
    "df1=df1[['border_color','creature','artifact','rarity','land','planeswalker','instant','sorcery','color_identity','frame']]\n",
    "cols_to_transform = ['border_color','rarity','color_identity','frame' ]\n",
    "\n",
    "#Transform features from categorical into binary features for use in logistic regression\n",
    "df_with_dummies = pd.get_dummies(df1, columns = cols_to_transform )\n",
    "# print(df_with_dummies)\n",
    "\n",
    "x=df_with_dummies.values\n",
    "y=np.array(df2['standard'])\n",
    "# x=x[:11000][:]\n",
    "# y=y[:11000][:]\n",
    "print(x.shape)\n",
    "print(y.shape)"
   ]
  },
  {
   "cell_type": "code",
   "execution_count": 6,
   "metadata": {},
   "outputs": [],
   "source": [
    "X_train, X_test, y_train, y_test = train_test_split(x, y, test_size=0.3, random_state=18)"
   ]
  },
  {
   "cell_type": "code",
   "execution_count": 7,
   "metadata": {},
   "outputs": [
    {
     "data": {
      "text/plain": [
       "LogisticRegression(C=100000000, class_weight=None, dual=False,\n",
       "          fit_intercept=True, intercept_scaling=1, max_iter=100,\n",
       "          multi_class='warn', n_jobs=None, penalty='l2', random_state=None,\n",
       "          solver='liblinear', tol=0.0001, verbose=0, warm_start=False)"
      ]
     },
     "execution_count": 7,
     "metadata": {},
     "output_type": "execute_result"
    }
   ],
   "source": [
    "logregL1 = LogisticRegression(C=100000000,penalty='l1',solver='liblinear')\n",
    "logregL1.fit(X_train,y_train)\n",
    "logregL2 = LogisticRegression(C=100000000,penalty='l2',solver='liblinear')\n",
    "logregL2.fit(X_train,y_train)"
   ]
  },
  {
   "cell_type": "code",
   "execution_count": 8,
   "metadata": {},
   "outputs": [
    {
     "name": "stdout",
     "output_type": "stream",
     "text": [
      "Using L1 Regularization:\n",
      "Accuracy on training data = 0.933630\n",
      "Accuracy on test data = 0.926364\n",
      "true positive=  163 \n",
      "false positive=  80 \n",
      "true negative=  8769 \n",
      "false negative=  630 \n",
      "total=  9642\n",
      "\n",
      "\n",
      "Using L2 Regularization:\n",
      "Accuracy on training data = 0.933630\n",
      "Accuracy on test data = 0.926364\n",
      "true positive=  163 \n",
      "false positive=  80 \n",
      "true negative=  8769 \n",
      "false negative=  630 \n",
      "total=  9642\n"
     ]
    },
    {
     "data": {
      "text/plain": [
       "(0.6707818930041153, 0.2055485498108449)"
      ]
     },
     "execution_count": 8,
     "metadata": {},
     "output_type": "execute_result"
    }
   ],
   "source": [
    "#using L1 regularization\n",
    "print(\"Using L1 Regularization:\")\n",
    "yhat = logregL1.predict(X_test)\n",
    "# Find the accuracy achieved on training set.\n",
    "acc = logregL1.score(X_train, y_train)\n",
    "print(\"Accuracy on training data = %f\" % acc)\n",
    "# Find the accuracy achieved on test set.\n",
    "val_acc = logregL1.score(X_test, y_test)\n",
    "print(\"Accuracy on test data = %f\" % val_acc)\n",
    "precision_recall(yhat, y_test , 0.5)\n",
    "print(\"\\n\")\n",
    "#using L2 regularization\n",
    "print(\"Using L2 Regularization:\")\n",
    "yhat2 = logregL2.predict(X_test)\n",
    "# Find the accuracy achieved on training set.\n",
    "acc2 = logregL2.score(X_train, y_train)\n",
    "print(\"Accuracy on training data = %f\" % acc2)\n",
    "# Find the accuracy achieved on test set.\n",
    "val_acc2 = logregL2.score(X_test, y_test)\n",
    "print(\"Accuracy on test data = %f\" % val_acc2)\n",
    "precision_recall(yhat2, y_test , 0.5)\n"
   ]
  },
  {
   "cell_type": "code",
   "execution_count": 9,
   "metadata": {},
   "outputs": [],
   "source": [
    "df3=df[['set','name']]\n",
    "df3=pd.get_dummies(df3, columns = ['set','name'] )"
   ]
  },
  {
   "cell_type": "code",
   "execution_count": 10,
   "metadata": {},
   "outputs": [
    {
     "name": "stdout",
     "output_type": "stream",
     "text": [
      "(45026, 19717)\n",
      "(45026,)\n",
      "Using L1 Regualrization:\n",
      "Accuracy on training data = 1.000000\n",
      "Accuracy on test data = 0.999408\n",
      "true positive=  1628 \n",
      "false positive=  0 \n",
      "true negative=  11872 \n",
      "false negative=  8 \n",
      "total=  13508\n",
      "\n",
      "\n",
      "Using L2 Regualrization:\n",
      "Accuracy on training data = 1.000000\n",
      "Accuracy on test data = 0.997631\n",
      "true positive=  1604 \n",
      "false positive=  0 \n",
      "true negative=  11872 \n",
      "false negative=  32 \n",
      "total=  13508\n"
     ]
    },
    {
     "data": {
      "text/plain": [
       "(1.0, 0.980440097799511)"
      ]
     },
     "execution_count": 10,
     "metadata": {},
     "output_type": "execute_result"
    }
   ],
   "source": [
    "#checking how a lower number of features would perform\n",
    "\n",
    "x=df3.values\n",
    "y=np.array(df['standard'])\n",
    "# x=x[:11000][:]\n",
    "# y=y[:11000][:]\n",
    "\n",
    "print(x.shape)\n",
    "print(y.shape)\n",
    "\n",
    "X_train, X_test, y_train, y_test = train_test_split(x, y, test_size=0.3, random_state=18)\n",
    "logregL1 = LogisticRegression(C=100000000,penalty='l1',solver='liblinear')\n",
    "logregL1.fit(X_train,y_train)\n",
    "logregL2 = LogisticRegression(C=100000000,penalty='l2',solver='liblinear')\n",
    "logregL2.fit(X_train,y_train)\n",
    "\n",
    "\n",
    "\n",
    "\n",
    "#using L1 regularization\n",
    "print(\"Using L1 Regualrization:\")\n",
    "yhat = logregL1.predict(X_test)\n",
    "# Find the accuracy achieved on training set.\n",
    "acc = logregL1.score(X_train, y_train)\n",
    "print(\"Accuracy on training data = %f\" % acc)\n",
    "# Find the accuracy achieved on test set.\n",
    "acc = logregL1.score(X_test, y_test)\n",
    "print(\"Accuracy on test data = %f\" % acc)\n",
    "precision_recall(yhat, y_test , 0.5)\n",
    "\n",
    "print(\"\\n\")\n",
    "#using L2 regularization\n",
    "print(\"Using L2 Regualrization:\")\n",
    "yhat2 = logregL2.predict(X_test)\n",
    "# Find the accuracy achieved on training set.\n",
    "acc2 = logregL2.score(X_train, y_train)\n",
    "print(\"Accuracy on training data = %f\" % acc2)\n",
    "# Find the accuracy achieved on test set.\n",
    "val_acc2 = logregL2.score(X_test, y_test)\n",
    "print(\"Accuracy on test data = %f\" % val_acc2)\n",
    "precision_recall(yhat2, y_test , 0.5)\n"
   ]
  },
  {
   "cell_type": "code",
   "execution_count": null,
   "metadata": {},
   "outputs": [],
   "source": []
  },
  {
   "cell_type": "code",
   "execution_count": null,
   "metadata": {},
   "outputs": [],
   "source": []
  }
 ],
 "metadata": {
  "kernelspec": {
   "display_name": "Python 3",
   "language": "python",
   "name": "python3"
  },
  "language_info": {
   "codemirror_mode": {
    "name": "ipython",
    "version": 3
   },
   "file_extension": ".py",
   "mimetype": "text/x-python",
   "name": "python",
   "nbconvert_exporter": "python",
   "pygments_lexer": "ipython3",
   "version": "3.6.7"
  }
 },
 "nbformat": 4,
 "nbformat_minor": 2
}
