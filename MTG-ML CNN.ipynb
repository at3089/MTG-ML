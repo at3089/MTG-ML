{
 "cells": [
  {
   "cell_type": "code",
   "execution_count": 1,
   "metadata": {},
   "outputs": [
    {
     "name": "stderr",
     "output_type": "stream",
     "text": [
      "Using TensorFlow backend.\n"
     ]
    }
   ],
   "source": [
    "from PIL import Image\n",
    "import numpy as np\n",
    "import pandas as pd\n",
    "import skimage.io\n",
    "import skimage.transform\n",
    "import matplotlib.pyplot as plt\n",
    "import keras\n",
    "import os\n",
    "from keras import Model, Sequential\n",
    "from keras.layers import Conv2D, MaxPooling2D, Dense, Flatten, BatchNormalization\n",
    "from io import BytesIO\n",
    "import time\n",
    "%matplotlib inline"
   ]
  },
  {
   "cell_type": "code",
   "execution_count": 2,
   "metadata": {},
   "outputs": [],
   "source": [
    "input_shape = (128, 128, 3)"
   ]
  },
  {
   "cell_type": "code",
   "execution_count": null,
   "metadata": {},
   "outputs": [],
   "source": []
  },
  {
   "cell_type": "code",
   "execution_count": null,
   "metadata": {},
   "outputs": [],
   "source": []
  },
  {
   "cell_type": "code",
   "execution_count": 3,
   "metadata": {},
   "outputs": [],
   "source": [
    "# # Initial Model, Sigmoid Activation\n",
    "# model = Sequential()\n",
    "# model.add(Conv2D(32, kernel_size=(3, 3), strides=(1, 1), activation='relu', input_shape=input_shape))\n",
    "# model.add(MaxPooling2D(pool_size=(2, 2), strides=(2, 2)))\n",
    "# model.add(Conv2D(64, (5, 5), activation='relu'))\n",
    "# model.add(MaxPooling2D(pool_size=(2, 2)))\n",
    "# model.add(Flatten())\n",
    "# model.add(Dense(100, activation='sigmoid'))\n",
    "# model.add(Dense(2, activation='softmax'))"
   ]
  },
  {
   "cell_type": "code",
   "execution_count": 4,
   "metadata": {},
   "outputs": [],
   "source": [
    "# # Second Model, ReLu Activation (Taking TOO LONG)\n",
    "# model = Sequential()\n",
    "# model.add(Conv2D(32, kernel_size=(3, 3), strides=(1, 1), activation='relu', input_shape=input_shape))\n",
    "# model.add(MaxPooling2D(pool_size=(2, 2), strides=(2, 2)))\n",
    "# model.add(Conv2D(64, (4, 4), activation='relu'))\n",
    "# model.add(MaxPooling2D(pool_size=(2, 2)))\n",
    "# model.add(Flatten())\n",
    "# model.add(Dense(100, activation='sigmoid'))\n",
    "# model.add(Dense(2, activation='softmax'))"
   ]
  },
  {
   "cell_type": "code",
   "execution_count": 5,
   "metadata": {},
   "outputs": [],
   "source": [
    "# # Third Model, ReLu Activation Saw no increase in accuracy\n",
    "# model = Sequential()\n",
    "# model.add(Conv2D(32, kernel_size=(4, 4), strides=(1, 1), activation='relu', input_shape=input_shape))\n",
    "# model.add(MaxPooling2D(pool_size=(2, 2), strides=(2, 2)))\n",
    "# model.add(Conv2D(64, (3, 3), activation='relu'))\n",
    "# model.add(MaxPooling2D(pool_size=(2, 2)))\n",
    "# model.add(Conv2D(64, (3, 3), activation='relu'))\n",
    "# model.add(Conv2D(64, (2, 2), activation='relu'))\n",
    "# model.add(MaxPooling2D(pool_size=(2, 2)))\n",
    "# model.add(Flatten())\n",
    "# model.add(Dense(1000, activation='relu'))\n",
    "# model.add(Dense(500, activation='relu'))\n",
    "# model.add(Dense(250, activation='relu'))\n",
    "# model.add(Dense(2, activation='softmax'))"
   ]
  },
  {
   "cell_type": "code",
   "execution_count": 6,
   "metadata": {},
   "outputs": [],
   "source": [
    "#Fourth model, Relu activation, addition of batch normalization saw an improvement in accuracy\n",
    "model = Sequential()\n",
    "model.add(Conv2D(32, (3, 3), strides=(2, 2), input_shape = (128, 128, 3), activation = 'relu'))\n",
    "model.add(BatchNormalization())\n",
    "model.add(MaxPooling2D(pool_size = (2, 2)))\n",
    "model.add(Conv2D(64, (3, 3), activation = 'relu'))\n",
    "model.add(BatchNormalization())\n",
    "model.add(MaxPooling2D(pool_size = (2, 2)))\n",
    "model.add(Conv2D(64, (4, 4), activation='relu'))\n",
    "model.add(BatchNormalization())\n",
    "model.add(MaxPooling2D(pool_size=(2, 2)))\n",
    "model.add(Flatten())\n",
    "model.add(Dense(units = 4000, activation = 'relu'))\n",
    "model.add(Dense(units = 2000, activation = 'relu'))\n",
    "model.add(BatchNormalization())\n",
    "model.add(Dense(units = 1000, activation = 'relu'))\n",
    "model.add(Dense(units = 500, activation = 'relu'))\n",
    "model.add(BatchNormalization())\n",
    "model.add(Dense(units = 250, activation = 'relu'))\n",
    "model.add(Dense(units = 2, activation = 'softmax'))"
   ]
  },
  {
   "cell_type": "code",
   "execution_count": 7,
   "metadata": {},
   "outputs": [],
   "source": []
  },
  {
   "cell_type": "code",
   "execution_count": 8,
   "metadata": {},
   "outputs": [],
   "source": []
  },
  {
   "cell_type": "code",
   "execution_count": 9,
   "metadata": {
    "scrolled": true
   },
   "outputs": [
    {
     "name": "stdout",
     "output_type": "stream",
     "text": [
      "_________________________________________________________________\n",
      "Layer (type)                 Output Shape              Param #   \n",
      "=================================================================\n",
      "conv2d_1 (Conv2D)            (None, 63, 63, 32)        896       \n",
      "_________________________________________________________________\n",
      "batch_normalization_1 (Batch (None, 63, 63, 32)        128       \n",
      "_________________________________________________________________\n",
      "max_pooling2d_1 (MaxPooling2 (None, 31, 31, 32)        0         \n",
      "_________________________________________________________________\n",
      "conv2d_2 (Conv2D)            (None, 29, 29, 64)        18496     \n",
      "_________________________________________________________________\n",
      "batch_normalization_2 (Batch (None, 29, 29, 64)        256       \n",
      "_________________________________________________________________\n",
      "max_pooling2d_2 (MaxPooling2 (None, 14, 14, 64)        0         \n",
      "_________________________________________________________________\n",
      "conv2d_3 (Conv2D)            (None, 11, 11, 64)        65600     \n",
      "_________________________________________________________________\n",
      "batch_normalization_3 (Batch (None, 11, 11, 64)        256       \n",
      "_________________________________________________________________\n",
      "max_pooling2d_3 (MaxPooling2 (None, 5, 5, 64)          0         \n",
      "_________________________________________________________________\n",
      "flatten_1 (Flatten)          (None, 1600)              0         \n",
      "_________________________________________________________________\n",
      "dense_1 (Dense)              (None, 4000)              6404000   \n",
      "_________________________________________________________________\n",
      "dense_2 (Dense)              (None, 2000)              8002000   \n",
      "_________________________________________________________________\n",
      "batch_normalization_4 (Batch (None, 2000)              8000      \n",
      "_________________________________________________________________\n",
      "dense_3 (Dense)              (None, 1000)              2001000   \n",
      "_________________________________________________________________\n",
      "dense_4 (Dense)              (None, 500)               500500    \n",
      "_________________________________________________________________\n",
      "batch_normalization_5 (Batch (None, 500)               2000      \n",
      "_________________________________________________________________\n",
      "dense_5 (Dense)              (None, 250)               125250    \n",
      "_________________________________________________________________\n",
      "dense_6 (Dense)              (None, 2)                 502       \n",
      "=================================================================\n",
      "Total params: 17,128,884\n",
      "Trainable params: 17,123,564\n",
      "Non-trainable params: 5,320\n",
      "_________________________________________________________________\n"
     ]
    }
   ],
   "source": [
    "model.summary()"
   ]
  },
  {
   "cell_type": "code",
   "execution_count": 10,
   "metadata": {},
   "outputs": [],
   "source": [
    "# Compiling the CNN\n",
    "from keras import optimizers\n",
    "\n",
    "opt = optimizers.Adam(lr=0.01)\n",
    "model.compile(optimizer=opt,\n",
    "              loss='categorical_crossentropy',\n",
    "              metrics=['accuracy'])"
   ]
  },
  {
   "cell_type": "code",
   "execution_count": 11,
   "metadata": {},
   "outputs": [],
   "source": [
    "class LossHistory(keras.callbacks.Callback):\n",
    "    def on_train_begin(self, logs={}):\n",
    "        self.loss = []\n",
    "        self.val_acc = []\n",
    "        self.acc = []\n",
    "        \n",
    "    def on_batch_end(self, batch, logs={}):\n",
    "        self.loss.append(logs.get('loss'))\n",
    "        \n",
    "    def on_epoch_end(self, epoch, logs):\n",
    "        self.val_acc.append(logs.get('val_acc'))\n",
    "        self.acc.append(logs.get('acc'))\n",
    "\n",
    "history_cb = LossHistory()"
   ]
  },
  {
   "cell_type": "code",
   "execution_count": 12,
   "metadata": {},
   "outputs": [],
   "source": []
  },
  {
   "cell_type": "code",
   "execution_count": 13,
   "metadata": {
    "scrolled": true
   },
   "outputs": [
    {
     "name": "stdout",
     "output_type": "stream",
     "text": [
      "Found 2807 images belonging to 2 classes.\n",
      "Found 701 images belonging to 2 classes.\n",
      "Epoch 1/20\n",
      "1100/1100 [==============================] - 123s 112ms/step - loss: 0.4729 - acc: 0.8465 - val_loss: 0.3255 - val_acc: 0.8917\n",
      "Epoch 2/20\n",
      "1100/1100 [==============================] - 118s 107ms/step - loss: 0.1967 - acc: 0.9310 - val_loss: 0.4880 - val_acc: 0.7405\n",
      "Epoch 3/20\n",
      "1100/1100 [==============================] - 119s 108ms/step - loss: 0.1799 - acc: 0.9331 - val_loss: 0.2453 - val_acc: 0.9074\n",
      "Epoch 4/20\n",
      "1100/1100 [==============================] - 118s 108ms/step - loss: 0.1351 - acc: 0.9563 - val_loss: 0.1361 - val_acc: 0.9520\n",
      "Epoch 5/20\n",
      "1100/1100 [==============================] - 118s 108ms/step - loss: 0.1391 - acc: 0.9511 - val_loss: 0.4765 - val_acc: 0.7995\n",
      "Epoch 6/20\n",
      "1100/1100 [==============================] - 118s 107ms/step - loss: 0.1348 - acc: 0.9523 - val_loss: 2.5345 - val_acc: 0.6109\n",
      "Epoch 7/20\n",
      "1100/1100 [==============================] - 147s 134ms/step - loss: 0.1378 - acc: 0.9518 - val_loss: 6.1271 - val_acc: 0.6162\n",
      "Epoch 8/20\n",
      "1100/1100 [==============================] - 122s 111ms/step - loss: 0.0979 - acc: 0.9687 - val_loss: 0.0892 - val_acc: 0.9716\n",
      "Epoch 9/20\n",
      "1100/1100 [==============================] - 120s 109ms/step - loss: 0.1017 - acc: 0.9715 - val_loss: 0.2106 - val_acc: 0.9341\n",
      "Epoch 10/20\n",
      "1100/1100 [==============================] - 120s 109ms/step - loss: 0.0936 - acc: 0.9731 - val_loss: 0.1024 - val_acc: 0.9703\n",
      "Epoch 11/20\n",
      "1100/1100 [==============================] - 119s 109ms/step - loss: 0.0885 - acc: 0.9744 - val_loss: 0.1551 - val_acc: 0.9513\n",
      "Epoch 12/20\n",
      "1100/1100 [==============================] - 119s 108ms/step - loss: 0.0827 - acc: 0.9765 - val_loss: 0.3119 - val_acc: 0.9181\n",
      "Epoch 13/20\n",
      "1100/1100 [==============================] - 119s 109ms/step - loss: 0.0917 - acc: 0.9728 - val_loss: 0.1115 - val_acc: 0.9581\n",
      "Epoch 14/20\n",
      "1100/1100 [==============================] - 120s 109ms/step - loss: 0.0879 - acc: 0.9742 - val_loss: 0.2122 - val_acc: 0.9321\n",
      "Epoch 15/20\n",
      "1100/1100 [==============================] - 119s 108ms/step - loss: 0.0868 - acc: 0.9741 - val_loss: 0.0889 - val_acc: 0.9725\n",
      "Epoch 16/20\n",
      "1100/1100 [==============================] - 120s 109ms/step - loss: 0.1002 - acc: 0.9738 - val_loss: 1.6813 - val_acc: 0.6272\n",
      "Epoch 17/20\n",
      "1100/1100 [==============================] - 118s 108ms/step - loss: 0.0715 - acc: 0.9794 - val_loss: 0.2023 - val_acc: 0.9448\n",
      "Epoch 18/20\n",
      "1100/1100 [==============================] - 120s 109ms/step - loss: 0.0796 - acc: 0.9755 - val_loss: 0.1757 - val_acc: 0.9540\n",
      "Epoch 19/20\n",
      "1100/1100 [==============================] - 120s 109ms/step - loss: 0.0918 - acc: 0.9723 - val_loss: 0.1521 - val_acc: 0.9666\n",
      "Epoch 20/20\n",
      "1100/1100 [==============================] - 120s 109ms/step - loss: 0.0701 - acc: 0.9801 - val_loss: 0.2448 - val_acc: 0.9303\n",
      "2420.6731910705566\n"
     ]
    }
   ],
   "source": [
    "start_time = time.time()\n",
    "\n",
    "from keras import backend as K\n",
    "from keras.preprocessing.image import ImageDataGenerator\n",
    "\n",
    "train_datagen = ImageDataGenerator(rotation_range=90,\n",
    "        width_shift_range=0.2,\n",
    "        height_shift_range=0.2,\n",
    "        shear_range=0.2,\n",
    "        zoom_range=0.2,\n",
    "        horizontal_flip=True,\n",
    "        fill_mode='nearest',\n",
    "        rescale=1./255, validation_split=0.2)\n",
    "\n",
    "\n",
    "#lower batch size improved performance, lowering time to complete epoch\n",
    "batch_sz=16\n",
    "\n",
    "training_set = train_datagen.flow_from_directory('dataset/all_cards', target_size = (128, 128), batch_size = batch_sz, \n",
    "                                                 class_mode = 'categorical',classes=['legal','illegal'], \n",
    "                                                 subset='training')\n",
    "#                                                  , save_to_dir='preview2', save_prefix='mtg_card', save_format='jpeg')\n",
    "\n",
    "test_set = train_datagen.flow_from_directory('dataset/all_cards', target_size = (128, 128), batch_size = batch_sz, \n",
    "                                                 class_mode = 'categorical',classes=['legal','illegal'], \n",
    "                                                 subset='validation')\n",
    "\n",
    "\n",
    "model.fit_generator(training_set, steps_per_epoch=1100, epochs = 20, validation_steps=400, validation_data = test_set, callbacks=[history_cb],workers=3)\n",
    "elapsed_time = time.time() - start_time\n",
    "print(elapsed_time)"
   ]
  },
  {
   "cell_type": "code",
   "execution_count": 1,
   "metadata": {},
   "outputs": [
    {
     "ename": "NameError",
     "evalue": "name 'model' is not defined",
     "output_type": "error",
     "traceback": [
      "\u001b[1;31m---------------------------------------------------------------------------\u001b[0m",
      "\u001b[1;31mNameError\u001b[0m                                 Traceback (most recent call last)",
      "\u001b[1;32m<ipython-input-1-84e521fda13b>\u001b[0m in \u001b[0;36m<module>\u001b[1;34m\u001b[0m\n\u001b[0;32m      1\u001b[0m \u001b[0mmodelname\u001b[0m\u001b[1;33m=\u001b[0m\u001b[1;34m'mtg-ml-cnn-relu-20ep-3c-5hd.h5'\u001b[0m\u001b[1;33m\u001b[0m\u001b[1;33m\u001b[0m\u001b[0m\n\u001b[1;32m----> 2\u001b[1;33m \u001b[0mmodel\u001b[0m\u001b[1;33m.\u001b[0m\u001b[0msave\u001b[0m\u001b[1;33m(\u001b[0m\u001b[0mmodelname\u001b[0m\u001b[1;33m)\u001b[0m\u001b[1;33m\u001b[0m\u001b[1;33m\u001b[0m\u001b[0m\n\u001b[0m",
      "\u001b[1;31mNameError\u001b[0m: name 'model' is not defined"
     ]
    }
   ],
   "source": [
    "modelname='mtg-ml-cnn-relu-20ep-3c-5hd.h5'\n",
    "model.save(modelname)"
   ]
  },
  {
   "cell_type": "code",
   "execution_count": 15,
   "metadata": {},
   "outputs": [],
   "source": [
    "# model=keras.models.load_model('model_one.h5')"
   ]
  },
  {
   "cell_type": "code",
   "execution_count": 16,
   "metadata": {
    "scrolled": true
   },
   "outputs": [
    {
     "data": {
      "text/plain": [
       "Text(0, 0.5, 'Accuracy')"
      ]
     },
     "execution_count": 16,
     "metadata": {},
     "output_type": "execute_result"
    },
    {
     "data": {
      "image/png": "[encoded data removed]",
      "text/plain": [
       "<Figure size 432x288 with 1 Axes>"
      ]
     },
     "metadata": {
      "needs_background": "light"
     },
     "output_type": "display_data"
    }
   ],
   "source": [
    "modelHistory = history_cb\n",
    "xVal = np.arange(1, 1+20, 1)\n",
    "plt.plot(xVal, modelHistory.acc)\n",
    "plt.plot(xVal, modelHistory.val_acc)\n",
    "plt.title('Model 1')\n",
    "plt.legend((\"Training\", \"Testing\"), loc=\"best\")\n",
    "plt.xlabel('Epoch')\n",
    "plt.ylabel('Accuracy')"
   ]
  },
  {
   "cell_type": "code",
   "execution_count": 17,
   "metadata": {},
   "outputs": [
    {
     "name": "stdout",
     "output_type": "stream",
     "text": [
      "Found 1 images belonging to 1 classes.\n",
      "[9.9986768e-01 1.3227777e-04]\n",
      "Card is Standard Legal\n",
      "\n"
     ]
    }
   ],
   "source": [
    "predict_datagen=ImageDataGenerator(rescale=1./255)\n",
    "predict_set=predict_datagen.flow_from_directory('prediction', target_size = (128, 128), \n",
    "                                                 class_mode = None)\n",
    "\n",
    "y_hat=model.predict_generator(predict_set,steps=1, verbose=0)\n",
    "for i in y_hat:\n",
    "    print(i)\n",
    "    if i[0]>.5:\n",
    "        print(\"Card is Standard Legal\\n\")\n",
    "    else:\n",
    "        print(\"Card is Not in Standard\\n\")\n",
    "    "
   ]
  },
  {
   "cell_type": "code",
   "execution_count": 18,
   "metadata": {},
   "outputs": [],
   "source": [
    "# K.clear_session()\n",
    "# del model\n",
    "# import gc\n",
    "# gc.collect()"
   ]
  },
  {
   "cell_type": "code",
   "execution_count": null,
   "metadata": {},
   "outputs": [],
   "source": []
  }
 ],
 "metadata": {
  "kernelspec": {
   "display_name": "Python 3",
   "language": "python",
   "name": "python3"
  },
  "language_info": {
   "codemirror_mode": {
    "name": "ipython",
    "version": 3
   },
   "file_extension": ".py",
   "mimetype": "text/x-python",
   "name": "python",
   "nbconvert_exporter": "python",
   "pygments_lexer": "ipython3",
   "version": "3.6.7"
  }
 },
 "nbformat": 4,
 "nbformat_minor": 2
}
