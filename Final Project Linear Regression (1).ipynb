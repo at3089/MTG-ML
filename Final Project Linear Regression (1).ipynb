{
 "cells": [
  {
   "cell_type": "code",
   "execution_count": 1,
   "metadata": {},
   "outputs": [],
   "source": [
    "import numpy as np\n",
    "import pandas as pd\n",
    "import matplotlib\n",
    "from matplotlib import pyplot as plt"
   ]
  },
  {
   "cell_type": "code",
   "execution_count": 2,
   "metadata": {},
   "outputs": [],
   "source": [
    "names =[\n",
    "    'artist', 'cmc', 'color_identity', 'toughness', 'creature', 'power', 'standard'\n",
    "]"
   ]
  },
  {
   "cell_type": "code",
   "execution_count": 3,
   "metadata": {},
   "outputs": [
    {
     "name": "stdout",
     "output_type": "stream",
     "text": [
      "(44993, 7)\n"
     ]
    }
   ],
   "source": [
    "df= pd.read_csv('scryfall-default-cards-cleaned-more.csv', \n",
    "                 header = 0, delimiter = \",\", na_values = '?', low_memory=False)\n",
    "print(df.shape)"
   ]
  },
  {
   "cell_type": "code",
   "execution_count": 4,
   "metadata": {},
   "outputs": [],
   "source": [
    "df = df[:4500][:]\n",
    "creatures = pd.DataFrame(columns=names)"
   ]
  },
  {
   "cell_type": "code",
   "execution_count": 5,
   "metadata": {},
   "outputs": [],
   "source": [
    "for index, row in df.iterrows():\n",
    "   if(row['creature'] == 1):\n",
    "    creatures = creatures.append(row)"
   ]
  },
  {
   "cell_type": "code",
   "execution_count": 6,
   "metadata": {},
   "outputs": [
    {
     "name": "stdout",
     "output_type": "stream",
     "text": [
      "(2260, 7)\n",
      "            artist  cmc color_identity toughness creature power standard\n",
      "0    Kieran Yanner  2.0          ['B']         1        1     1        0\n",
      "11   Igor Kieryluk  8.0             []         8        1     8        0\n",
      "14      Kev Walker  3.0     ['G', 'W']         2        1     3        0\n",
      "15  Lucas Graciano  3.0     ['B', 'R']         2        1     2        0\n",
      "16      Chris Rahn  5.0     ['G', 'W']         5        1     5        0\n"
     ]
    }
   ],
   "source": [
    "print(creatures.shape)\n",
    "print(creatures[:5][:])"
   ]
  },
  {
   "cell_type": "code",
   "execution_count": 7,
   "metadata": {},
   "outputs": [],
   "source": [
    "creatures_cost = creatures['cmc']\n",
    "creatures2 = creatures['power']\n",
    "creatures2 = pd.to_numeric(creatures2)"
   ]
  },
  {
   "cell_type": "code",
   "execution_count": 8,
   "metadata": {},
   "outputs": [
    {
     "name": "stdout",
     "output_type": "stream",
     "text": [
      "(2260,)\n",
      "(2260,)\n",
      "0     2.0\n",
      "11    8.0\n",
      "14    3.0\n",
      "15    3.0\n",
      "16    5.0\n",
      "Name: cmc, dtype: float64\n",
      "0     1.0\n",
      "11    8.0\n",
      "14    3.0\n",
      "15    2.0\n",
      "16    5.0\n",
      "Name: power, dtype: float64\n"
     ]
    }
   ],
   "source": [
    "print(creatures_cost.shape)\n",
    "print(creatures2.shape)\n",
    "print(creatures_cost[:5][:])\n",
    "print(creatures2[:5][:])"
   ]
  },
  {
   "cell_type": "code",
   "execution_count": 9,
   "metadata": {},
   "outputs": [
    {
     "data": {
      "image/png": "[encoded data removed]",
      "text/plain": [
       "<Figure size 432x288 with 1 Axes>"
      ]
     },
     "metadata": {},
     "output_type": "display_data"
    }
   ],
   "source": [
    "plt.plot(creatures2, creatures_cost, 'o')\n",
    "plt.ylabel('CMC')\n",
    "plt.xlabel('Power')\n",
    "plt.title('Power Vs. CMC')\n",
    "plt.grid(color='black', linestyle='-', linewidth=1)"
   ]
  },
  {
   "cell_type": "code",
   "execution_count": 10,
   "metadata": {},
   "outputs": [],
   "source": [
    "def fit_linear(x,y):\n",
    "    xm = np.mean(x)\n",
    "    ym = np.mean(y)\n",
    "    syy = np.mean((y-ym)**2)\n",
    "    sxx = np.mean((x-xm)**2)\n",
    "    sxy = np.mean((y-ym)*(x-xm))\n",
    "    w1 = sxy/sxx\n",
    "    w0 = ym - w1*xm\n",
    "    yhat = w0 + w1 * x\n",
    "    rss = np.mean((y-yhat)**2)\n",
    "    tss = syy\n",
    "    rsq = 1 - rss/tss\n",
    "    return w0, w1, rsq"
   ]
  },
  {
   "cell_type": "code",
   "execution_count": 11,
   "metadata": {},
   "outputs": [
    {
     "name": "stdout",
     "output_type": "stream",
     "text": [
      "w0 = 1.3520605613298877 | w1 = 0.7757849584140899 | rsq = 0.5208950093224785\n"
     ]
    }
   ],
   "source": [
    "w0, w1, rsq = fit_linear(creatures2, creatures_cost)\n",
    "print(\"w0 =\",w0,\"| w1 =\", w1, \"| rsq =\", rsq)"
   ]
  },
  {
   "cell_type": "code",
   "execution_count": 16,
   "metadata": {},
   "outputs": [
    {
     "data": {
      "text/plain": [
       "[<matplotlib.lines.Line2D at 0x1673cc92e10>]"
      ]
     },
     "execution_count": 16,
     "metadata": {},
     "output_type": "execute_result"
    },
    {
     "data": {
      "image/png": "[encoded data removed]",
      "text/plain": [
       "<Figure size 432x288 with 1 Axes>"
      ]
     },
     "metadata": {},
     "output_type": "display_data"
    }
   ],
   "source": [
    "xp = np.arange(-2, 20)\n",
    "yp = w0 + w1 * xp\n",
    "plt.plot(creatures2, creatures_cost, 'o')\n",
    "plt.ylabel('CMC')\n",
    "plt.xlabel('Power')\n",
    "plt.title('Power Vs. CMC')\n",
    "plt.grid(color='black', linestyle='-', linewidth=1)\n",
    "plt.plot(xp, yp, linewidth=3)"
   ]
  },
  {
   "cell_type": "code",
   "execution_count": null,
   "metadata": {},
   "outputs": [],
   "source": []
  }
 ],
 "metadata": {
  "kernelspec": {
   "display_name": "Python 3",
   "language": "python",
   "name": "python3"
  },
  "language_info": {
   "codemirror_mode": {
    "name": "ipython",
    "version": 3
   },
   "file_extension": ".py",
   "mimetype": "text/x-python",
   "name": "python",
   "nbconvert_exporter": "python",
   "pygments_lexer": "ipython3",
   "version": "3.6.5"
  }
 },
 "nbformat": 4,
 "nbformat_minor": 2
}
